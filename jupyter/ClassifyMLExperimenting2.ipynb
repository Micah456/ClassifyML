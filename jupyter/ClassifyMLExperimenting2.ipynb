{
 "cells": [
  {
   "cell_type": "code",
   "execution_count": 1,
   "id": "eca90e8c",
   "metadata": {},
   "outputs": [
    {
     "name": "stdout",
     "output_type": "stream",
     "text": [
      "Requirement already satisfied: opencv-python in c:\\users\\chell\\appdata\\local\\programs\\python\\python39\\lib\\site-packages (4.7.0.72)\n",
      "Requirement already satisfied: numpy>=1.17.3 in c:\\users\\chell\\appdata\\roaming\\python\\python39\\site-packages (from opencv-python) (1.23.5)\n",
      "Note: you may need to restart the kernel to use updated packages.\n"
     ]
    },
    {
     "name": "stderr",
     "output_type": "stream",
     "text": [
      "WARNING: You are using pip version 22.0.4; however, version 23.1 is available.\n",
      "You should consider upgrading via the 'C:\\Users\\chell\\AppData\\Local\\Programs\\Python\\Python39\\python.exe -m pip install --upgrade pip' command.\n"
     ]
    }
   ],
   "source": [
    "%pip install opencv-python"
   ]
  },
  {
   "cell_type": "code",
   "execution_count": 1,
   "id": "53ed52c9",
   "metadata": {},
   "outputs": [],
   "source": [
    "import cv2, numpy as np, pandas as pd, os, re, math"
   ]
  },
  {
   "cell_type": "code",
   "execution_count": 2,
   "id": "49e4baeb",
   "metadata": {},
   "outputs": [],
   "source": [
    "def compress_image(image):\n",
    "    pixel_list = []\n",
    "    for i in range(image.shape[0]):\n",
    "        for j in range(image.shape[1]):\n",
    "            pixel = math.floor(np.mean(image[i,j]))\n",
    "            pixel_list.append(pixel)\n",
    "    return pixel_list"
   ]
  },
  {
   "cell_type": "code",
   "execution_count": 37,
   "id": "2447a0a5",
   "metadata": {},
   "outputs": [],
   "source": [
    "#Get image row data (including number column data (num_type))\n",
    "def get_image_row(filepath):\n",
    "    num_type = re.findall(\"data/number_images/(\\d)\", filepath)[0]\n",
    "    image = cv2.imread(filepath)\n",
    "    row = compress_image(image)\n",
    "    row.append(int(num_type))\n",
    "    return row"
   ]
  },
  {
   "cell_type": "code",
   "execution_count": 3,
   "id": "14738369",
   "metadata": {},
   "outputs": [],
   "source": [
    "def create_column_list(number_of_columns):\n",
    "    column_list = []\n",
    "    for i in range(number_of_columns):\n",
    "        column_list.append(\"frag_\" + str(i))\n",
    "    column_list.append(\"Number\")\n",
    "    return column_list"
   ]
  },
  {
   "cell_type": "code",
   "execution_count": 21,
   "id": "53c492f0",
   "metadata": {},
   "outputs": [],
   "source": [
    "def get_all_image_rows_by_number(number_str, number_of_data_columns):\n",
    "    df_rows = []\n",
    "    dir_path = \"../data/number_images/\" + number_str\n",
    "    file_list = os.listdir(dir_path)\n",
    "    for filename in file_list:\n",
    "        filepath = dir_path + \"/\" + filename\n",
    "        df_rows.append(get_image_row(filepath))\n",
    "    return df_rows"
   ]
  },
  {
   "cell_type": "code",
   "execution_count": 25,
   "id": "0f710f20",
   "metadata": {},
   "outputs": [],
   "source": [
    "zero_rows = get_all_image_rows_by_number('0', 12600)"
   ]
  },
  {
   "cell_type": "code",
   "execution_count": 23,
   "id": "f36f618f",
   "metadata": {},
   "outputs": [
    {
     "data": {
      "text/plain": [
       "12601"
      ]
     },
     "execution_count": 23,
     "metadata": {},
     "output_type": "execute_result"
    }
   ],
   "source": [
    "len(zero_rows[0])"
   ]
  },
  {
   "cell_type": "code",
   "execution_count": 26,
   "id": "fdc083cc",
   "metadata": {},
   "outputs": [],
   "source": [
    "def create_number_dataframe(number_of_data_columns):\n",
    "    #Create column list\n",
    "    column_list = create_column_list(number_of_data_columns)\n",
    "    #Create rows\n",
    "    df_rows = []\n",
    "    dir_list = os.listdir(\"../data/number_images\")\n",
    "    for directory in dir_list:\n",
    "        dir_path = \"../data/number_images/\" + directory\n",
    "        file_list = os.listdir(dir_path)\n",
    "        for filename in file_list:\n",
    "            filepath = dir_path + \"/\" + filename\n",
    "            df_rows.append(get_image_row(filepath))\n",
    "    #Create df\n",
    "    number_df = pd.DataFrame(df_rows, columns=column_list)\n",
    "    return number_df"
   ]
  },
  {
   "cell_type": "code",
   "execution_count": 27,
   "id": "259b7f83",
   "metadata": {},
   "outputs": [],
   "source": [
    "numbers_df = create_number_dataframe(12600)"
   ]
  },
  {
   "cell_type": "code",
   "execution_count": 28,
   "id": "d2f62419",
   "metadata": {},
   "outputs": [
    {
     "data": {
      "text/html": [
       "<div>\n",
       "<style scoped>\n",
       "    .dataframe tbody tr th:only-of-type {\n",
       "        vertical-align: middle;\n",
       "    }\n",
       "\n",
       "    .dataframe tbody tr th {\n",
       "        vertical-align: top;\n",
       "    }\n",
       "\n",
       "    .dataframe thead th {\n",
       "        text-align: right;\n",
       "    }\n",
       "</style>\n",
       "<table border=\"1\" class=\"dataframe\">\n",
       "  <thead>\n",
       "    <tr style=\"text-align: right;\">\n",
       "      <th></th>\n",
       "      <th>frag_0</th>\n",
       "      <th>frag_1</th>\n",
       "      <th>frag_2</th>\n",
       "      <th>frag_3</th>\n",
       "      <th>frag_4</th>\n",
       "      <th>frag_5</th>\n",
       "      <th>frag_6</th>\n",
       "      <th>frag_7</th>\n",
       "      <th>frag_8</th>\n",
       "      <th>frag_9</th>\n",
       "      <th>...</th>\n",
       "      <th>frag_12591</th>\n",
       "      <th>frag_12592</th>\n",
       "      <th>frag_12593</th>\n",
       "      <th>frag_12594</th>\n",
       "      <th>frag_12595</th>\n",
       "      <th>frag_12596</th>\n",
       "      <th>frag_12597</th>\n",
       "      <th>frag_12598</th>\n",
       "      <th>frag_12599</th>\n",
       "      <th>Number</th>\n",
       "    </tr>\n",
       "  </thead>\n",
       "  <tbody>\n",
       "    <tr>\n",
       "      <th>0</th>\n",
       "      <td>255</td>\n",
       "      <td>255</td>\n",
       "      <td>255</td>\n",
       "      <td>255</td>\n",
       "      <td>255</td>\n",
       "      <td>254</td>\n",
       "      <td>253</td>\n",
       "      <td>252</td>\n",
       "      <td>254</td>\n",
       "      <td>254</td>\n",
       "      <td>...</td>\n",
       "      <td>253</td>\n",
       "      <td>253</td>\n",
       "      <td>255</td>\n",
       "      <td>255</td>\n",
       "      <td>255</td>\n",
       "      <td>255</td>\n",
       "      <td>254</td>\n",
       "      <td>246</td>\n",
       "      <td>219</td>\n",
       "      <td>0</td>\n",
       "    </tr>\n",
       "    <tr>\n",
       "      <th>1</th>\n",
       "      <td>254</td>\n",
       "      <td>253</td>\n",
       "      <td>252</td>\n",
       "      <td>251</td>\n",
       "      <td>251</td>\n",
       "      <td>252</td>\n",
       "      <td>253</td>\n",
       "      <td>254</td>\n",
       "      <td>255</td>\n",
       "      <td>255</td>\n",
       "      <td>...</td>\n",
       "      <td>253</td>\n",
       "      <td>254</td>\n",
       "      <td>253</td>\n",
       "      <td>254</td>\n",
       "      <td>254</td>\n",
       "      <td>252</td>\n",
       "      <td>231</td>\n",
       "      <td>171</td>\n",
       "      <td>82</td>\n",
       "      <td>0</td>\n",
       "    </tr>\n",
       "    <tr>\n",
       "      <th>2</th>\n",
       "      <td>252</td>\n",
       "      <td>249</td>\n",
       "      <td>247</td>\n",
       "      <td>246</td>\n",
       "      <td>248</td>\n",
       "      <td>250</td>\n",
       "      <td>250</td>\n",
       "      <td>250</td>\n",
       "      <td>252</td>\n",
       "      <td>252</td>\n",
       "      <td>...</td>\n",
       "      <td>251</td>\n",
       "      <td>251</td>\n",
       "      <td>251</td>\n",
       "      <td>252</td>\n",
       "      <td>252</td>\n",
       "      <td>254</td>\n",
       "      <td>254</td>\n",
       "      <td>254</td>\n",
       "      <td>253</td>\n",
       "      <td>0</td>\n",
       "    </tr>\n",
       "    <tr>\n",
       "      <th>3</th>\n",
       "      <td>253</td>\n",
       "      <td>253</td>\n",
       "      <td>253</td>\n",
       "      <td>253</td>\n",
       "      <td>254</td>\n",
       "      <td>254</td>\n",
       "      <td>254</td>\n",
       "      <td>254</td>\n",
       "      <td>253</td>\n",
       "      <td>254</td>\n",
       "      <td>...</td>\n",
       "      <td>253</td>\n",
       "      <td>253</td>\n",
       "      <td>254</td>\n",
       "      <td>254</td>\n",
       "      <td>254</td>\n",
       "      <td>254</td>\n",
       "      <td>253</td>\n",
       "      <td>254</td>\n",
       "      <td>251</td>\n",
       "      <td>0</td>\n",
       "    </tr>\n",
       "    <tr>\n",
       "      <th>4</th>\n",
       "      <td>254</td>\n",
       "      <td>254</td>\n",
       "      <td>254</td>\n",
       "      <td>254</td>\n",
       "      <td>254</td>\n",
       "      <td>255</td>\n",
       "      <td>255</td>\n",
       "      <td>255</td>\n",
       "      <td>255</td>\n",
       "      <td>255</td>\n",
       "      <td>...</td>\n",
       "      <td>254</td>\n",
       "      <td>255</td>\n",
       "      <td>254</td>\n",
       "      <td>255</td>\n",
       "      <td>249</td>\n",
       "      <td>208</td>\n",
       "      <td>114</td>\n",
       "      <td>51</td>\n",
       "      <td>46</td>\n",
       "      <td>0</td>\n",
       "    </tr>\n",
       "    <tr>\n",
       "      <th>...</th>\n",
       "      <td>...</td>\n",
       "      <td>...</td>\n",
       "      <td>...</td>\n",
       "      <td>...</td>\n",
       "      <td>...</td>\n",
       "      <td>...</td>\n",
       "      <td>...</td>\n",
       "      <td>...</td>\n",
       "      <td>...</td>\n",
       "      <td>...</td>\n",
       "      <td>...</td>\n",
       "      <td>...</td>\n",
       "      <td>...</td>\n",
       "      <td>...</td>\n",
       "      <td>...</td>\n",
       "      <td>...</td>\n",
       "      <td>...</td>\n",
       "      <td>...</td>\n",
       "      <td>...</td>\n",
       "      <td>...</td>\n",
       "      <td>...</td>\n",
       "    </tr>\n",
       "    <tr>\n",
       "      <th>995</th>\n",
       "      <td>255</td>\n",
       "      <td>255</td>\n",
       "      <td>253</td>\n",
       "      <td>252</td>\n",
       "      <td>252</td>\n",
       "      <td>253</td>\n",
       "      <td>254</td>\n",
       "      <td>255</td>\n",
       "      <td>255</td>\n",
       "      <td>255</td>\n",
       "      <td>...</td>\n",
       "      <td>253</td>\n",
       "      <td>251</td>\n",
       "      <td>251</td>\n",
       "      <td>252</td>\n",
       "      <td>254</td>\n",
       "      <td>254</td>\n",
       "      <td>252</td>\n",
       "      <td>250</td>\n",
       "      <td>249</td>\n",
       "      <td>9</td>\n",
       "    </tr>\n",
       "    <tr>\n",
       "      <th>996</th>\n",
       "      <td>254</td>\n",
       "      <td>254</td>\n",
       "      <td>255</td>\n",
       "      <td>255</td>\n",
       "      <td>255</td>\n",
       "      <td>255</td>\n",
       "      <td>254</td>\n",
       "      <td>253</td>\n",
       "      <td>252</td>\n",
       "      <td>253</td>\n",
       "      <td>...</td>\n",
       "      <td>252</td>\n",
       "      <td>255</td>\n",
       "      <td>252</td>\n",
       "      <td>248</td>\n",
       "      <td>249</td>\n",
       "      <td>252</td>\n",
       "      <td>233</td>\n",
       "      <td>153</td>\n",
       "      <td>27</td>\n",
       "      <td>9</td>\n",
       "    </tr>\n",
       "    <tr>\n",
       "      <th>997</th>\n",
       "      <td>254</td>\n",
       "      <td>255</td>\n",
       "      <td>255</td>\n",
       "      <td>254</td>\n",
       "      <td>253</td>\n",
       "      <td>254</td>\n",
       "      <td>255</td>\n",
       "      <td>255</td>\n",
       "      <td>255</td>\n",
       "      <td>255</td>\n",
       "      <td>...</td>\n",
       "      <td>255</td>\n",
       "      <td>255</td>\n",
       "      <td>255</td>\n",
       "      <td>255</td>\n",
       "      <td>255</td>\n",
       "      <td>255</td>\n",
       "      <td>254</td>\n",
       "      <td>252</td>\n",
       "      <td>254</td>\n",
       "      <td>9</td>\n",
       "    </tr>\n",
       "    <tr>\n",
       "      <th>998</th>\n",
       "      <td>252</td>\n",
       "      <td>255</td>\n",
       "      <td>254</td>\n",
       "      <td>244</td>\n",
       "      <td>238</td>\n",
       "      <td>242</td>\n",
       "      <td>250</td>\n",
       "      <td>254</td>\n",
       "      <td>254</td>\n",
       "      <td>255</td>\n",
       "      <td>...</td>\n",
       "      <td>255</td>\n",
       "      <td>255</td>\n",
       "      <td>254</td>\n",
       "      <td>254</td>\n",
       "      <td>254</td>\n",
       "      <td>254</td>\n",
       "      <td>253</td>\n",
       "      <td>254</td>\n",
       "      <td>253</td>\n",
       "      <td>9</td>\n",
       "    </tr>\n",
       "    <tr>\n",
       "      <th>999</th>\n",
       "      <td>253</td>\n",
       "      <td>254</td>\n",
       "      <td>255</td>\n",
       "      <td>255</td>\n",
       "      <td>254</td>\n",
       "      <td>254</td>\n",
       "      <td>254</td>\n",
       "      <td>254</td>\n",
       "      <td>254</td>\n",
       "      <td>254</td>\n",
       "      <td>...</td>\n",
       "      <td>253</td>\n",
       "      <td>255</td>\n",
       "      <td>255</td>\n",
       "      <td>251</td>\n",
       "      <td>249</td>\n",
       "      <td>208</td>\n",
       "      <td>56</td>\n",
       "      <td>34</td>\n",
       "      <td>0</td>\n",
       "      <td>9</td>\n",
       "    </tr>\n",
       "  </tbody>\n",
       "</table>\n",
       "<p>1000 rows × 12601 columns</p>\n",
       "</div>"
      ],
      "text/plain": [
       "     frag_0  frag_1  frag_2  frag_3  frag_4  frag_5  frag_6  frag_7  frag_8  \\\n",
       "0       255     255     255     255     255     254     253     252     254   \n",
       "1       254     253     252     251     251     252     253     254     255   \n",
       "2       252     249     247     246     248     250     250     250     252   \n",
       "3       253     253     253     253     254     254     254     254     253   \n",
       "4       254     254     254     254     254     255     255     255     255   \n",
       "..      ...     ...     ...     ...     ...     ...     ...     ...     ...   \n",
       "995     255     255     253     252     252     253     254     255     255   \n",
       "996     254     254     255     255     255     255     254     253     252   \n",
       "997     254     255     255     254     253     254     255     255     255   \n",
       "998     252     255     254     244     238     242     250     254     254   \n",
       "999     253     254     255     255     254     254     254     254     254   \n",
       "\n",
       "     frag_9  ...  frag_12591  frag_12592  frag_12593  frag_12594  frag_12595  \\\n",
       "0       254  ...         253         253         255         255         255   \n",
       "1       255  ...         253         254         253         254         254   \n",
       "2       252  ...         251         251         251         252         252   \n",
       "3       254  ...         253         253         254         254         254   \n",
       "4       255  ...         254         255         254         255         249   \n",
       "..      ...  ...         ...         ...         ...         ...         ...   \n",
       "995     255  ...         253         251         251         252         254   \n",
       "996     253  ...         252         255         252         248         249   \n",
       "997     255  ...         255         255         255         255         255   \n",
       "998     255  ...         255         255         254         254         254   \n",
       "999     254  ...         253         255         255         251         249   \n",
       "\n",
       "     frag_12596  frag_12597  frag_12598  frag_12599  Number  \n",
       "0           255         254         246         219       0  \n",
       "1           252         231         171          82       0  \n",
       "2           254         254         254         253       0  \n",
       "3           254         253         254         251       0  \n",
       "4           208         114          51          46       0  \n",
       "..          ...         ...         ...         ...     ...  \n",
       "995         254         252         250         249       9  \n",
       "996         252         233         153          27       9  \n",
       "997         255         254         252         254       9  \n",
       "998         254         253         254         253       9  \n",
       "999         208          56          34           0       9  \n",
       "\n",
       "[1000 rows x 12601 columns]"
      ]
     },
     "execution_count": 28,
     "metadata": {},
     "output_type": "execute_result"
    }
   ],
   "source": [
    "numbers_df"
   ]
  },
  {
   "cell_type": "code",
   "execution_count": 30,
   "id": "22e56f3a",
   "metadata": {},
   "outputs": [],
   "source": [
    "numbers_df.to_csv(\"../data/numbers_df.csv\")"
   ]
  },
  {
   "cell_type": "code",
   "execution_count": 4,
   "id": "9e6ff36c",
   "metadata": {},
   "outputs": [],
   "source": [
    "df = pd.read_csv(\"../data/numbers_df.csv\")"
   ]
  },
  {
   "cell_type": "code",
   "execution_count": 3,
   "id": "0684bf8f",
   "metadata": {},
   "outputs": [
    {
     "data": {
      "text/html": [
       "<div>\n",
       "<style scoped>\n",
       "    .dataframe tbody tr th:only-of-type {\n",
       "        vertical-align: middle;\n",
       "    }\n",
       "\n",
       "    .dataframe tbody tr th {\n",
       "        vertical-align: top;\n",
       "    }\n",
       "\n",
       "    .dataframe thead th {\n",
       "        text-align: right;\n",
       "    }\n",
       "</style>\n",
       "<table border=\"1\" class=\"dataframe\">\n",
       "  <thead>\n",
       "    <tr style=\"text-align: right;\">\n",
       "      <th></th>\n",
       "      <th>frag_0</th>\n",
       "      <th>frag_1</th>\n",
       "      <th>frag_2</th>\n",
       "      <th>frag_3</th>\n",
       "      <th>frag_4</th>\n",
       "      <th>frag_5</th>\n",
       "      <th>frag_6</th>\n",
       "      <th>frag_7</th>\n",
       "      <th>frag_8</th>\n",
       "      <th>frag_9</th>\n",
       "      <th>...</th>\n",
       "      <th>frag_12591</th>\n",
       "      <th>frag_12592</th>\n",
       "      <th>frag_12593</th>\n",
       "      <th>frag_12594</th>\n",
       "      <th>frag_12595</th>\n",
       "      <th>frag_12596</th>\n",
       "      <th>frag_12597</th>\n",
       "      <th>frag_12598</th>\n",
       "      <th>frag_12599</th>\n",
       "      <th>Number</th>\n",
       "    </tr>\n",
       "  </thead>\n",
       "  <tbody>\n",
       "    <tr>\n",
       "      <th>0</th>\n",
       "      <td>255</td>\n",
       "      <td>255</td>\n",
       "      <td>255</td>\n",
       "      <td>255</td>\n",
       "      <td>255</td>\n",
       "      <td>254</td>\n",
       "      <td>253</td>\n",
       "      <td>252</td>\n",
       "      <td>254</td>\n",
       "      <td>254</td>\n",
       "      <td>...</td>\n",
       "      <td>253</td>\n",
       "      <td>253</td>\n",
       "      <td>255</td>\n",
       "      <td>255</td>\n",
       "      <td>255</td>\n",
       "      <td>255</td>\n",
       "      <td>254</td>\n",
       "      <td>246</td>\n",
       "      <td>219</td>\n",
       "      <td>0</td>\n",
       "    </tr>\n",
       "    <tr>\n",
       "      <th>1</th>\n",
       "      <td>254</td>\n",
       "      <td>253</td>\n",
       "      <td>252</td>\n",
       "      <td>251</td>\n",
       "      <td>251</td>\n",
       "      <td>252</td>\n",
       "      <td>253</td>\n",
       "      <td>254</td>\n",
       "      <td>255</td>\n",
       "      <td>255</td>\n",
       "      <td>...</td>\n",
       "      <td>253</td>\n",
       "      <td>254</td>\n",
       "      <td>253</td>\n",
       "      <td>254</td>\n",
       "      <td>254</td>\n",
       "      <td>252</td>\n",
       "      <td>231</td>\n",
       "      <td>171</td>\n",
       "      <td>82</td>\n",
       "      <td>0</td>\n",
       "    </tr>\n",
       "    <tr>\n",
       "      <th>2</th>\n",
       "      <td>252</td>\n",
       "      <td>249</td>\n",
       "      <td>247</td>\n",
       "      <td>246</td>\n",
       "      <td>248</td>\n",
       "      <td>250</td>\n",
       "      <td>250</td>\n",
       "      <td>250</td>\n",
       "      <td>252</td>\n",
       "      <td>252</td>\n",
       "      <td>...</td>\n",
       "      <td>251</td>\n",
       "      <td>251</td>\n",
       "      <td>251</td>\n",
       "      <td>252</td>\n",
       "      <td>252</td>\n",
       "      <td>254</td>\n",
       "      <td>254</td>\n",
       "      <td>254</td>\n",
       "      <td>253</td>\n",
       "      <td>0</td>\n",
       "    </tr>\n",
       "    <tr>\n",
       "      <th>3</th>\n",
       "      <td>253</td>\n",
       "      <td>253</td>\n",
       "      <td>253</td>\n",
       "      <td>253</td>\n",
       "      <td>254</td>\n",
       "      <td>254</td>\n",
       "      <td>254</td>\n",
       "      <td>254</td>\n",
       "      <td>253</td>\n",
       "      <td>254</td>\n",
       "      <td>...</td>\n",
       "      <td>253</td>\n",
       "      <td>253</td>\n",
       "      <td>254</td>\n",
       "      <td>254</td>\n",
       "      <td>254</td>\n",
       "      <td>254</td>\n",
       "      <td>253</td>\n",
       "      <td>254</td>\n",
       "      <td>251</td>\n",
       "      <td>0</td>\n",
       "    </tr>\n",
       "    <tr>\n",
       "      <th>4</th>\n",
       "      <td>254</td>\n",
       "      <td>254</td>\n",
       "      <td>254</td>\n",
       "      <td>254</td>\n",
       "      <td>254</td>\n",
       "      <td>255</td>\n",
       "      <td>255</td>\n",
       "      <td>255</td>\n",
       "      <td>255</td>\n",
       "      <td>255</td>\n",
       "      <td>...</td>\n",
       "      <td>254</td>\n",
       "      <td>255</td>\n",
       "      <td>254</td>\n",
       "      <td>255</td>\n",
       "      <td>249</td>\n",
       "      <td>208</td>\n",
       "      <td>114</td>\n",
       "      <td>51</td>\n",
       "      <td>46</td>\n",
       "      <td>0</td>\n",
       "    </tr>\n",
       "    <tr>\n",
       "      <th>...</th>\n",
       "      <td>...</td>\n",
       "      <td>...</td>\n",
       "      <td>...</td>\n",
       "      <td>...</td>\n",
       "      <td>...</td>\n",
       "      <td>...</td>\n",
       "      <td>...</td>\n",
       "      <td>...</td>\n",
       "      <td>...</td>\n",
       "      <td>...</td>\n",
       "      <td>...</td>\n",
       "      <td>...</td>\n",
       "      <td>...</td>\n",
       "      <td>...</td>\n",
       "      <td>...</td>\n",
       "      <td>...</td>\n",
       "      <td>...</td>\n",
       "      <td>...</td>\n",
       "      <td>...</td>\n",
       "      <td>...</td>\n",
       "      <td>...</td>\n",
       "    </tr>\n",
       "    <tr>\n",
       "      <th>995</th>\n",
       "      <td>255</td>\n",
       "      <td>255</td>\n",
       "      <td>253</td>\n",
       "      <td>252</td>\n",
       "      <td>252</td>\n",
       "      <td>253</td>\n",
       "      <td>254</td>\n",
       "      <td>255</td>\n",
       "      <td>255</td>\n",
       "      <td>255</td>\n",
       "      <td>...</td>\n",
       "      <td>253</td>\n",
       "      <td>251</td>\n",
       "      <td>251</td>\n",
       "      <td>252</td>\n",
       "      <td>254</td>\n",
       "      <td>254</td>\n",
       "      <td>252</td>\n",
       "      <td>250</td>\n",
       "      <td>249</td>\n",
       "      <td>9</td>\n",
       "    </tr>\n",
       "    <tr>\n",
       "      <th>996</th>\n",
       "      <td>254</td>\n",
       "      <td>254</td>\n",
       "      <td>255</td>\n",
       "      <td>255</td>\n",
       "      <td>255</td>\n",
       "      <td>255</td>\n",
       "      <td>254</td>\n",
       "      <td>253</td>\n",
       "      <td>252</td>\n",
       "      <td>253</td>\n",
       "      <td>...</td>\n",
       "      <td>252</td>\n",
       "      <td>255</td>\n",
       "      <td>252</td>\n",
       "      <td>248</td>\n",
       "      <td>249</td>\n",
       "      <td>252</td>\n",
       "      <td>233</td>\n",
       "      <td>153</td>\n",
       "      <td>27</td>\n",
       "      <td>9</td>\n",
       "    </tr>\n",
       "    <tr>\n",
       "      <th>997</th>\n",
       "      <td>254</td>\n",
       "      <td>255</td>\n",
       "      <td>255</td>\n",
       "      <td>254</td>\n",
       "      <td>253</td>\n",
       "      <td>254</td>\n",
       "      <td>255</td>\n",
       "      <td>255</td>\n",
       "      <td>255</td>\n",
       "      <td>255</td>\n",
       "      <td>...</td>\n",
       "      <td>255</td>\n",
       "      <td>255</td>\n",
       "      <td>255</td>\n",
       "      <td>255</td>\n",
       "      <td>255</td>\n",
       "      <td>255</td>\n",
       "      <td>254</td>\n",
       "      <td>252</td>\n",
       "      <td>254</td>\n",
       "      <td>9</td>\n",
       "    </tr>\n",
       "    <tr>\n",
       "      <th>998</th>\n",
       "      <td>252</td>\n",
       "      <td>255</td>\n",
       "      <td>254</td>\n",
       "      <td>244</td>\n",
       "      <td>238</td>\n",
       "      <td>242</td>\n",
       "      <td>250</td>\n",
       "      <td>254</td>\n",
       "      <td>254</td>\n",
       "      <td>255</td>\n",
       "      <td>...</td>\n",
       "      <td>255</td>\n",
       "      <td>255</td>\n",
       "      <td>254</td>\n",
       "      <td>254</td>\n",
       "      <td>254</td>\n",
       "      <td>254</td>\n",
       "      <td>253</td>\n",
       "      <td>254</td>\n",
       "      <td>253</td>\n",
       "      <td>9</td>\n",
       "    </tr>\n",
       "    <tr>\n",
       "      <th>999</th>\n",
       "      <td>253</td>\n",
       "      <td>254</td>\n",
       "      <td>255</td>\n",
       "      <td>255</td>\n",
       "      <td>254</td>\n",
       "      <td>254</td>\n",
       "      <td>254</td>\n",
       "      <td>254</td>\n",
       "      <td>254</td>\n",
       "      <td>254</td>\n",
       "      <td>...</td>\n",
       "      <td>253</td>\n",
       "      <td>255</td>\n",
       "      <td>255</td>\n",
       "      <td>251</td>\n",
       "      <td>249</td>\n",
       "      <td>208</td>\n",
       "      <td>56</td>\n",
       "      <td>34</td>\n",
       "      <td>0</td>\n",
       "      <td>9</td>\n",
       "    </tr>\n",
       "  </tbody>\n",
       "</table>\n",
       "<p>1000 rows × 12601 columns</p>\n",
       "</div>"
      ],
      "text/plain": [
       "     frag_0  frag_1  frag_2  frag_3  frag_4  frag_5  frag_6  frag_7  frag_8  \\\n",
       "0       255     255     255     255     255     254     253     252     254   \n",
       "1       254     253     252     251     251     252     253     254     255   \n",
       "2       252     249     247     246     248     250     250     250     252   \n",
       "3       253     253     253     253     254     254     254     254     253   \n",
       "4       254     254     254     254     254     255     255     255     255   \n",
       "..      ...     ...     ...     ...     ...     ...     ...     ...     ...   \n",
       "995     255     255     253     252     252     253     254     255     255   \n",
       "996     254     254     255     255     255     255     254     253     252   \n",
       "997     254     255     255     254     253     254     255     255     255   \n",
       "998     252     255     254     244     238     242     250     254     254   \n",
       "999     253     254     255     255     254     254     254     254     254   \n",
       "\n",
       "     frag_9  ...  frag_12591  frag_12592  frag_12593  frag_12594  frag_12595  \\\n",
       "0       254  ...         253         253         255         255         255   \n",
       "1       255  ...         253         254         253         254         254   \n",
       "2       252  ...         251         251         251         252         252   \n",
       "3       254  ...         253         253         254         254         254   \n",
       "4       255  ...         254         255         254         255         249   \n",
       "..      ...  ...         ...         ...         ...         ...         ...   \n",
       "995     255  ...         253         251         251         252         254   \n",
       "996     253  ...         252         255         252         248         249   \n",
       "997     255  ...         255         255         255         255         255   \n",
       "998     255  ...         255         255         254         254         254   \n",
       "999     254  ...         253         255         255         251         249   \n",
       "\n",
       "     frag_12596  frag_12597  frag_12598  frag_12599  Number  \n",
       "0           255         254         246         219       0  \n",
       "1           252         231         171          82       0  \n",
       "2           254         254         254         253       0  \n",
       "3           254         253         254         251       0  \n",
       "4           208         114          51          46       0  \n",
       "..          ...         ...         ...         ...     ...  \n",
       "995         254         252         250         249       9  \n",
       "996         252         233         153          27       9  \n",
       "997         255         254         252         254       9  \n",
       "998         254         253         254         253       9  \n",
       "999         208          56          34           0       9  \n",
       "\n",
       "[1000 rows x 12601 columns]"
      ]
     },
     "execution_count": 3,
     "metadata": {},
     "output_type": "execute_result"
    }
   ],
   "source": [
    "df"
   ]
  },
  {
   "cell_type": "code",
   "execution_count": 5,
   "id": "9f3c7517",
   "metadata": {},
   "outputs": [],
   "source": [
    "from sklearn.svm import LinearSVC"
   ]
  },
  {
   "cell_type": "code",
   "execution_count": 6,
   "id": "14353781",
   "metadata": {},
   "outputs": [
    {
     "data": {
      "text/html": [
       "<style>#sk-container-id-1 {color: black;background-color: white;}#sk-container-id-1 pre{padding: 0;}#sk-container-id-1 div.sk-toggleable {background-color: white;}#sk-container-id-1 label.sk-toggleable__label {cursor: pointer;display: block;width: 100%;margin-bottom: 0;padding: 0.3em;box-sizing: border-box;text-align: center;}#sk-container-id-1 label.sk-toggleable__label-arrow:before {content: \"▸\";float: left;margin-right: 0.25em;color: #696969;}#sk-container-id-1 label.sk-toggleable__label-arrow:hover:before {color: black;}#sk-container-id-1 div.sk-estimator:hover label.sk-toggleable__label-arrow:before {color: black;}#sk-container-id-1 div.sk-toggleable__content {max-height: 0;max-width: 0;overflow: hidden;text-align: left;background-color: #f0f8ff;}#sk-container-id-1 div.sk-toggleable__content pre {margin: 0.2em;color: black;border-radius: 0.25em;background-color: #f0f8ff;}#sk-container-id-1 input.sk-toggleable__control:checked~div.sk-toggleable__content {max-height: 200px;max-width: 100%;overflow: auto;}#sk-container-id-1 input.sk-toggleable__control:checked~label.sk-toggleable__label-arrow:before {content: \"▾\";}#sk-container-id-1 div.sk-estimator input.sk-toggleable__control:checked~label.sk-toggleable__label {background-color: #d4ebff;}#sk-container-id-1 div.sk-label input.sk-toggleable__control:checked~label.sk-toggleable__label {background-color: #d4ebff;}#sk-container-id-1 input.sk-hidden--visually {border: 0;clip: rect(1px 1px 1px 1px);clip: rect(1px, 1px, 1px, 1px);height: 1px;margin: -1px;overflow: hidden;padding: 0;position: absolute;width: 1px;}#sk-container-id-1 div.sk-estimator {font-family: monospace;background-color: #f0f8ff;border: 1px dotted black;border-radius: 0.25em;box-sizing: border-box;margin-bottom: 0.5em;}#sk-container-id-1 div.sk-estimator:hover {background-color: #d4ebff;}#sk-container-id-1 div.sk-parallel-item::after {content: \"\";width: 100%;border-bottom: 1px solid gray;flex-grow: 1;}#sk-container-id-1 div.sk-label:hover label.sk-toggleable__label {background-color: #d4ebff;}#sk-container-id-1 div.sk-serial::before {content: \"\";position: absolute;border-left: 1px solid gray;box-sizing: border-box;top: 0;bottom: 0;left: 50%;z-index: 0;}#sk-container-id-1 div.sk-serial {display: flex;flex-direction: column;align-items: center;background-color: white;padding-right: 0.2em;padding-left: 0.2em;position: relative;}#sk-container-id-1 div.sk-item {position: relative;z-index: 1;}#sk-container-id-1 div.sk-parallel {display: flex;align-items: stretch;justify-content: center;background-color: white;position: relative;}#sk-container-id-1 div.sk-item::before, #sk-container-id-1 div.sk-parallel-item::before {content: \"\";position: absolute;border-left: 1px solid gray;box-sizing: border-box;top: 0;bottom: 0;left: 50%;z-index: -1;}#sk-container-id-1 div.sk-parallel-item {display: flex;flex-direction: column;z-index: 1;position: relative;background-color: white;}#sk-container-id-1 div.sk-parallel-item:first-child::after {align-self: flex-end;width: 50%;}#sk-container-id-1 div.sk-parallel-item:last-child::after {align-self: flex-start;width: 50%;}#sk-container-id-1 div.sk-parallel-item:only-child::after {width: 0;}#sk-container-id-1 div.sk-dashed-wrapped {border: 1px dashed gray;margin: 0 0.4em 0.5em 0.4em;box-sizing: border-box;padding-bottom: 0.4em;background-color: white;}#sk-container-id-1 div.sk-label label {font-family: monospace;font-weight: bold;display: inline-block;line-height: 1.2em;}#sk-container-id-1 div.sk-label-container {text-align: center;}#sk-container-id-1 div.sk-container {/* jupyter's `normalize.less` sets `[hidden] { display: none; }` but bootstrap.min.css set `[hidden] { display: none !important; }` so we also need the `!important` here to be able to override the default hidden behavior on the sphinx rendered scikit-learn.org. See: https://github.com/scikit-learn/scikit-learn/issues/21755 */display: inline-block !important;position: relative;}#sk-container-id-1 div.sk-text-repr-fallback {display: none;}</style><div id=\"sk-container-id-1\" class=\"sk-top-container\"><div class=\"sk-text-repr-fallback\"><pre>LinearSVC(dual=False, tol=0.001)</pre><b>In a Jupyter environment, please rerun this cell to show the HTML representation or trust the notebook. <br />On GitHub, the HTML representation is unable to render, please try loading this page with nbviewer.org.</b></div><div class=\"sk-container\" hidden><div class=\"sk-item\"><div class=\"sk-estimator sk-toggleable\"><input class=\"sk-toggleable__control sk-hidden--visually\" id=\"sk-estimator-id-1\" type=\"checkbox\" checked><label for=\"sk-estimator-id-1\" class=\"sk-toggleable__label sk-toggleable__label-arrow\">LinearSVC</label><div class=\"sk-toggleable__content\"><pre>LinearSVC(dual=False, tol=0.001)</pre></div></div></div></div></div>"
      ],
      "text/plain": [
       "LinearSVC(dual=False, tol=0.001)"
      ]
     },
     "execution_count": 6,
     "metadata": {},
     "output_type": "execute_result"
    }
   ],
   "source": [
    "clf_svm = LinearSVC(penalty='l2', dual=False, tol=0.001)\n",
    "clf_svm"
   ]
  },
  {
   "cell_type": "code",
   "execution_count": 7,
   "id": "a5a13bda",
   "metadata": {},
   "outputs": [],
   "source": [
    "from sklearn.model_selection import train_test_split"
   ]
  },
  {
   "cell_type": "code",
   "execution_count": 8,
   "id": "d19c2c67",
   "metadata": {},
   "outputs": [],
   "source": [
    "X = df.drop('Number', axis=1)\n",
    "Y = df['Number']"
   ]
  },
  {
   "cell_type": "code",
   "execution_count": 9,
   "id": "63960f02",
   "metadata": {},
   "outputs": [],
   "source": [
    "X_train, x_test, Y_train, y_test = train_test_split(X, Y, test_size=0.2, random_state=0)"
   ]
  },
  {
   "cell_type": "code",
   "execution_count": 10,
   "id": "dd85bcf5",
   "metadata": {},
   "outputs": [
    {
     "data": {
      "text/html": [
       "<style>#sk-container-id-2 {color: black;background-color: white;}#sk-container-id-2 pre{padding: 0;}#sk-container-id-2 div.sk-toggleable {background-color: white;}#sk-container-id-2 label.sk-toggleable__label {cursor: pointer;display: block;width: 100%;margin-bottom: 0;padding: 0.3em;box-sizing: border-box;text-align: center;}#sk-container-id-2 label.sk-toggleable__label-arrow:before {content: \"▸\";float: left;margin-right: 0.25em;color: #696969;}#sk-container-id-2 label.sk-toggleable__label-arrow:hover:before {color: black;}#sk-container-id-2 div.sk-estimator:hover label.sk-toggleable__label-arrow:before {color: black;}#sk-container-id-2 div.sk-toggleable__content {max-height: 0;max-width: 0;overflow: hidden;text-align: left;background-color: #f0f8ff;}#sk-container-id-2 div.sk-toggleable__content pre {margin: 0.2em;color: black;border-radius: 0.25em;background-color: #f0f8ff;}#sk-container-id-2 input.sk-toggleable__control:checked~div.sk-toggleable__content {max-height: 200px;max-width: 100%;overflow: auto;}#sk-container-id-2 input.sk-toggleable__control:checked~label.sk-toggleable__label-arrow:before {content: \"▾\";}#sk-container-id-2 div.sk-estimator input.sk-toggleable__control:checked~label.sk-toggleable__label {background-color: #d4ebff;}#sk-container-id-2 div.sk-label input.sk-toggleable__control:checked~label.sk-toggleable__label {background-color: #d4ebff;}#sk-container-id-2 input.sk-hidden--visually {border: 0;clip: rect(1px 1px 1px 1px);clip: rect(1px, 1px, 1px, 1px);height: 1px;margin: -1px;overflow: hidden;padding: 0;position: absolute;width: 1px;}#sk-container-id-2 div.sk-estimator {font-family: monospace;background-color: #f0f8ff;border: 1px dotted black;border-radius: 0.25em;box-sizing: border-box;margin-bottom: 0.5em;}#sk-container-id-2 div.sk-estimator:hover {background-color: #d4ebff;}#sk-container-id-2 div.sk-parallel-item::after {content: \"\";width: 100%;border-bottom: 1px solid gray;flex-grow: 1;}#sk-container-id-2 div.sk-label:hover label.sk-toggleable__label {background-color: #d4ebff;}#sk-container-id-2 div.sk-serial::before {content: \"\";position: absolute;border-left: 1px solid gray;box-sizing: border-box;top: 0;bottom: 0;left: 50%;z-index: 0;}#sk-container-id-2 div.sk-serial {display: flex;flex-direction: column;align-items: center;background-color: white;padding-right: 0.2em;padding-left: 0.2em;position: relative;}#sk-container-id-2 div.sk-item {position: relative;z-index: 1;}#sk-container-id-2 div.sk-parallel {display: flex;align-items: stretch;justify-content: center;background-color: white;position: relative;}#sk-container-id-2 div.sk-item::before, #sk-container-id-2 div.sk-parallel-item::before {content: \"\";position: absolute;border-left: 1px solid gray;box-sizing: border-box;top: 0;bottom: 0;left: 50%;z-index: -1;}#sk-container-id-2 div.sk-parallel-item {display: flex;flex-direction: column;z-index: 1;position: relative;background-color: white;}#sk-container-id-2 div.sk-parallel-item:first-child::after {align-self: flex-end;width: 50%;}#sk-container-id-2 div.sk-parallel-item:last-child::after {align-self: flex-start;width: 50%;}#sk-container-id-2 div.sk-parallel-item:only-child::after {width: 0;}#sk-container-id-2 div.sk-dashed-wrapped {border: 1px dashed gray;margin: 0 0.4em 0.5em 0.4em;box-sizing: border-box;padding-bottom: 0.4em;background-color: white;}#sk-container-id-2 div.sk-label label {font-family: monospace;font-weight: bold;display: inline-block;line-height: 1.2em;}#sk-container-id-2 div.sk-label-container {text-align: center;}#sk-container-id-2 div.sk-container {/* jupyter's `normalize.less` sets `[hidden] { display: none; }` but bootstrap.min.css set `[hidden] { display: none !important; }` so we also need the `!important` here to be able to override the default hidden behavior on the sphinx rendered scikit-learn.org. See: https://github.com/scikit-learn/scikit-learn/issues/21755 */display: inline-block !important;position: relative;}#sk-container-id-2 div.sk-text-repr-fallback {display: none;}</style><div id=\"sk-container-id-2\" class=\"sk-top-container\"><div class=\"sk-text-repr-fallback\"><pre>LinearSVC(dual=False, tol=0.001)</pre><b>In a Jupyter environment, please rerun this cell to show the HTML representation or trust the notebook. <br />On GitHub, the HTML representation is unable to render, please try loading this page with nbviewer.org.</b></div><div class=\"sk-container\" hidden><div class=\"sk-item\"><div class=\"sk-estimator sk-toggleable\"><input class=\"sk-toggleable__control sk-hidden--visually\" id=\"sk-estimator-id-2\" type=\"checkbox\" checked><label for=\"sk-estimator-id-2\" class=\"sk-toggleable__label sk-toggleable__label-arrow\">LinearSVC</label><div class=\"sk-toggleable__content\"><pre>LinearSVC(dual=False, tol=0.001)</pre></div></div></div></div></div>"
      ],
      "text/plain": [
       "LinearSVC(dual=False, tol=0.001)"
      ]
     },
     "execution_count": 10,
     "metadata": {},
     "output_type": "execute_result"
    }
   ],
   "source": [
    "clf_svm.fit(X_train, Y_train)"
   ]
  },
  {
   "cell_type": "code",
   "execution_count": 15,
   "id": "c180bbbd",
   "metadata": {},
   "outputs": [],
   "source": [
    "y_predicted = clf_svm.predict(x_test)"
   ]
  },
  {
   "cell_type": "code",
   "execution_count": 16,
   "id": "8df9c6d6",
   "metadata": {},
   "outputs": [
    {
     "name": "stdout",
     "output_type": "stream",
     "text": [
      "0.665\n"
     ]
    }
   ],
   "source": [
    "from sklearn.metrics import accuracy_score\n",
    "acc_svm = accuracy_score(y_test, y_predicted)\n",
    "print(acc_svm)"
   ]
  },
  {
   "cell_type": "code",
   "execution_count": 17,
   "id": "2eb27235",
   "metadata": {},
   "outputs": [],
   "source": [
    "from sklearn.model_selection import GridSearchCV"
   ]
  },
  {
   "cell_type": "code",
   "execution_count": 18,
   "id": "9ea04e93",
   "metadata": {},
   "outputs": [],
   "source": [
    "penalties = ['l1', 'l2']\n",
    "tolerances = [1e-3, 1e-4, 1e-5]"
   ]
  },
  {
   "cell_type": "code",
   "execution_count": 19,
   "id": "66b04115",
   "metadata": {},
   "outputs": [],
   "source": [
    "param_grid = {'penalty': penalties, 'tol':tolerances}"
   ]
  },
  {
   "cell_type": "code",
   "execution_count": 21,
   "id": "8e767be2",
   "metadata": {},
   "outputs": [
    {
     "name": "stderr",
     "output_type": "stream",
     "text": [
      "C:\\Users\\chell\\AppData\\Local\\Programs\\Python\\Python39\\lib\\site-packages\\sklearn\\svm\\_base.py:1244: ConvergenceWarning: Liblinear failed to converge, increase the number of iterations.\n",
      "  warnings.warn(\n",
      "C:\\Users\\chell\\AppData\\Local\\Programs\\Python\\Python39\\lib\\site-packages\\sklearn\\svm\\_base.py:1244: ConvergenceWarning: Liblinear failed to converge, increase the number of iterations.\n",
      "  warnings.warn(\n",
      "C:\\Users\\chell\\AppData\\Local\\Programs\\Python\\Python39\\lib\\site-packages\\sklearn\\svm\\_base.py:1244: ConvergenceWarning: Liblinear failed to converge, increase the number of iterations.\n",
      "  warnings.warn(\n",
      "C:\\Users\\chell\\AppData\\Local\\Programs\\Python\\Python39\\lib\\site-packages\\sklearn\\svm\\_base.py:1244: ConvergenceWarning: Liblinear failed to converge, increase the number of iterations.\n",
      "  warnings.warn(\n",
      "C:\\Users\\chell\\AppData\\Local\\Programs\\Python\\Python39\\lib\\site-packages\\sklearn\\svm\\_base.py:1244: ConvergenceWarning: Liblinear failed to converge, increase the number of iterations.\n",
      "  warnings.warn(\n",
      "C:\\Users\\chell\\AppData\\Local\\Programs\\Python\\Python39\\lib\\site-packages\\sklearn\\svm\\_base.py:1244: ConvergenceWarning: Liblinear failed to converge, increase the number of iterations.\n",
      "  warnings.warn(\n",
      "C:\\Users\\chell\\AppData\\Local\\Programs\\Python\\Python39\\lib\\site-packages\\sklearn\\svm\\_base.py:1244: ConvergenceWarning: Liblinear failed to converge, increase the number of iterations.\n",
      "  warnings.warn(\n",
      "C:\\Users\\chell\\AppData\\Local\\Programs\\Python\\Python39\\lib\\site-packages\\sklearn\\svm\\_base.py:1244: ConvergenceWarning: Liblinear failed to converge, increase the number of iterations.\n",
      "  warnings.warn(\n",
      "C:\\Users\\chell\\AppData\\Local\\Programs\\Python\\Python39\\lib\\site-packages\\sklearn\\svm\\_base.py:1244: ConvergenceWarning: Liblinear failed to converge, increase the number of iterations.\n",
      "  warnings.warn(\n",
      "C:\\Users\\chell\\AppData\\Local\\Programs\\Python\\Python39\\lib\\site-packages\\sklearn\\svm\\_base.py:1244: ConvergenceWarning: Liblinear failed to converge, increase the number of iterations.\n",
      "  warnings.warn(\n",
      "C:\\Users\\chell\\AppData\\Local\\Programs\\Python\\Python39\\lib\\site-packages\\sklearn\\svm\\_base.py:1244: ConvergenceWarning: Liblinear failed to converge, increase the number of iterations.\n",
      "  warnings.warn(\n",
      "C:\\Users\\chell\\AppData\\Local\\Programs\\Python\\Python39\\lib\\site-packages\\sklearn\\svm\\_base.py:1244: ConvergenceWarning: Liblinear failed to converge, increase the number of iterations.\n",
      "  warnings.warn(\n",
      "C:\\Users\\chell\\AppData\\Local\\Programs\\Python\\Python39\\lib\\site-packages\\sklearn\\svm\\_base.py:1244: ConvergenceWarning: Liblinear failed to converge, increase the number of iterations.\n",
      "  warnings.warn(\n",
      "C:\\Users\\chell\\AppData\\Local\\Programs\\Python\\Python39\\lib\\site-packages\\sklearn\\svm\\_base.py:1244: ConvergenceWarning: Liblinear failed to converge, increase the number of iterations.\n",
      "  warnings.warn(\n",
      "C:\\Users\\chell\\AppData\\Local\\Programs\\Python\\Python39\\lib\\site-packages\\sklearn\\svm\\_base.py:1244: ConvergenceWarning: Liblinear failed to converge, increase the number of iterations.\n",
      "  warnings.warn(\n"
     ]
    },
    {
     "data": {
      "text/plain": [
       "{'penalty': 'l2', 'tol': 0.001}"
      ]
     },
     "execution_count": 21,
     "metadata": {},
     "output_type": "execute_result"
    }
   ],
   "source": [
    "grid_search = GridSearchCV(LinearSVC(dual=False), param_grid)\n",
    "grid_search.fit(X_train, Y_train)\n",
    "\n",
    "grid_search.best_params_"
   ]
  },
  {
   "cell_type": "code",
   "execution_count": 22,
   "id": "5ff35bfb",
   "metadata": {},
   "outputs": [],
   "source": [
    "from PIL import Image\n",
    "import requests\n",
    "from io import BytesIO"
   ]
  },
  {
   "cell_type": "code",
   "execution_count": 23,
   "id": "c6631c47",
   "metadata": {},
   "outputs": [
    {
     "ename": "InvalidSchema",
     "evalue": "No connection adapters were found for 'blob:http://127.0.0.1:5001/3b6f483c-3b81-4b20-8297-a1ea00276ba9'",
     "output_type": "error",
     "traceback": [
      "\u001b[1;31m---------------------------------------------------------------------------\u001b[0m",
      "\u001b[1;31mInvalidSchema\u001b[0m                             Traceback (most recent call last)",
      "Cell \u001b[1;32mIn[23], line 1\u001b[0m\n\u001b[1;32m----> 1\u001b[0m response \u001b[38;5;241m=\u001b[39m \u001b[43mrequests\u001b[49m\u001b[38;5;241;43m.\u001b[39;49m\u001b[43mget\u001b[49m\u001b[43m(\u001b[49m\u001b[38;5;124;43m\"\u001b[39;49m\u001b[38;5;124;43mblob:http://127.0.0.1:5001/3b6f483c-3b81-4b20-8297-a1ea00276ba9\u001b[39;49m\u001b[38;5;124;43m\"\u001b[39;49m\u001b[43m)\u001b[49m\n",
      "File \u001b[1;32m~\\AppData\\Roaming\\Python\\Python39\\site-packages\\requests\\api.py:73\u001b[0m, in \u001b[0;36mget\u001b[1;34m(url, params, **kwargs)\u001b[0m\n\u001b[0;32m     62\u001b[0m \u001b[38;5;28;01mdef\u001b[39;00m \u001b[38;5;21mget\u001b[39m(url, params\u001b[38;5;241m=\u001b[39m\u001b[38;5;28;01mNone\u001b[39;00m, \u001b[38;5;241m*\u001b[39m\u001b[38;5;241m*\u001b[39mkwargs):\n\u001b[0;32m     63\u001b[0m     \u001b[38;5;124mr\u001b[39m\u001b[38;5;124;03m\"\"\"Sends a GET request.\u001b[39;00m\n\u001b[0;32m     64\u001b[0m \n\u001b[0;32m     65\u001b[0m \u001b[38;5;124;03m    :param url: URL for the new :class:`Request` object.\u001b[39;00m\n\u001b[1;32m   (...)\u001b[0m\n\u001b[0;32m     70\u001b[0m \u001b[38;5;124;03m    :rtype: requests.Response\u001b[39;00m\n\u001b[0;32m     71\u001b[0m \u001b[38;5;124;03m    \"\"\"\u001b[39;00m\n\u001b[1;32m---> 73\u001b[0m     \u001b[38;5;28;01mreturn\u001b[39;00m request(\u001b[38;5;124m\"\u001b[39m\u001b[38;5;124mget\u001b[39m\u001b[38;5;124m\"\u001b[39m, url, params\u001b[38;5;241m=\u001b[39mparams, \u001b[38;5;241m*\u001b[39m\u001b[38;5;241m*\u001b[39mkwargs)\n",
      "File \u001b[1;32m~\\AppData\\Roaming\\Python\\Python39\\site-packages\\requests\\api.py:59\u001b[0m, in \u001b[0;36mrequest\u001b[1;34m(method, url, **kwargs)\u001b[0m\n\u001b[0;32m     55\u001b[0m \u001b[38;5;66;03m# By using the 'with' statement we are sure the session is closed, thus we\u001b[39;00m\n\u001b[0;32m     56\u001b[0m \u001b[38;5;66;03m# avoid leaving sockets open which can trigger a ResourceWarning in some\u001b[39;00m\n\u001b[0;32m     57\u001b[0m \u001b[38;5;66;03m# cases, and look like a memory leak in others.\u001b[39;00m\n\u001b[0;32m     58\u001b[0m \u001b[38;5;28;01mwith\u001b[39;00m sessions\u001b[38;5;241m.\u001b[39mSession() \u001b[38;5;28;01mas\u001b[39;00m session:\n\u001b[1;32m---> 59\u001b[0m     \u001b[38;5;28;01mreturn\u001b[39;00m session\u001b[38;5;241m.\u001b[39mrequest(method\u001b[38;5;241m=\u001b[39mmethod, url\u001b[38;5;241m=\u001b[39murl, \u001b[38;5;241m*\u001b[39m\u001b[38;5;241m*\u001b[39mkwargs)\n",
      "File \u001b[1;32m~\\AppData\\Roaming\\Python\\Python39\\site-packages\\requests\\sessions.py:587\u001b[0m, in \u001b[0;36mSession.request\u001b[1;34m(self, method, url, params, data, headers, cookies, files, auth, timeout, allow_redirects, proxies, hooks, stream, verify, cert, json)\u001b[0m\n\u001b[0;32m    582\u001b[0m send_kwargs \u001b[38;5;241m=\u001b[39m {\n\u001b[0;32m    583\u001b[0m     \u001b[38;5;124m\"\u001b[39m\u001b[38;5;124mtimeout\u001b[39m\u001b[38;5;124m\"\u001b[39m: timeout,\n\u001b[0;32m    584\u001b[0m     \u001b[38;5;124m\"\u001b[39m\u001b[38;5;124mallow_redirects\u001b[39m\u001b[38;5;124m\"\u001b[39m: allow_redirects,\n\u001b[0;32m    585\u001b[0m }\n\u001b[0;32m    586\u001b[0m send_kwargs\u001b[38;5;241m.\u001b[39mupdate(settings)\n\u001b[1;32m--> 587\u001b[0m resp \u001b[38;5;241m=\u001b[39m \u001b[38;5;28mself\u001b[39m\u001b[38;5;241m.\u001b[39msend(prep, \u001b[38;5;241m*\u001b[39m\u001b[38;5;241m*\u001b[39msend_kwargs)\n\u001b[0;32m    589\u001b[0m \u001b[38;5;28;01mreturn\u001b[39;00m resp\n",
      "File \u001b[1;32m~\\AppData\\Roaming\\Python\\Python39\\site-packages\\requests\\sessions.py:695\u001b[0m, in \u001b[0;36mSession.send\u001b[1;34m(self, request, **kwargs)\u001b[0m\n\u001b[0;32m    692\u001b[0m hooks \u001b[38;5;241m=\u001b[39m request\u001b[38;5;241m.\u001b[39mhooks\n\u001b[0;32m    694\u001b[0m \u001b[38;5;66;03m# Get the appropriate adapter to use\u001b[39;00m\n\u001b[1;32m--> 695\u001b[0m adapter \u001b[38;5;241m=\u001b[39m \u001b[38;5;28;43mself\u001b[39;49m\u001b[38;5;241;43m.\u001b[39;49m\u001b[43mget_adapter\u001b[49m\u001b[43m(\u001b[49m\u001b[43murl\u001b[49m\u001b[38;5;241;43m=\u001b[39;49m\u001b[43mrequest\u001b[49m\u001b[38;5;241;43m.\u001b[39;49m\u001b[43murl\u001b[49m\u001b[43m)\u001b[49m\n\u001b[0;32m    697\u001b[0m \u001b[38;5;66;03m# Start time (approximately) of the request\u001b[39;00m\n\u001b[0;32m    698\u001b[0m start \u001b[38;5;241m=\u001b[39m preferred_clock()\n",
      "File \u001b[1;32m~\\AppData\\Roaming\\Python\\Python39\\site-packages\\requests\\sessions.py:792\u001b[0m, in \u001b[0;36mSession.get_adapter\u001b[1;34m(self, url)\u001b[0m\n\u001b[0;32m    789\u001b[0m         \u001b[38;5;28;01mreturn\u001b[39;00m adapter\n\u001b[0;32m    791\u001b[0m \u001b[38;5;66;03m# Nothing matches :-/\u001b[39;00m\n\u001b[1;32m--> 792\u001b[0m \u001b[38;5;28;01mraise\u001b[39;00m InvalidSchema(\u001b[38;5;124mf\u001b[39m\u001b[38;5;124m\"\u001b[39m\u001b[38;5;124mNo connection adapters were found for \u001b[39m\u001b[38;5;132;01m{\u001b[39;00murl\u001b[38;5;132;01m!r}\u001b[39;00m\u001b[38;5;124m\"\u001b[39m)\n",
      "\u001b[1;31mInvalidSchema\u001b[0m: No connection adapters were found for 'blob:http://127.0.0.1:5001/3b6f483c-3b81-4b20-8297-a1ea00276ba9'"
     ]
    }
   ],
   "source": [
    "response = requests.get(\"blob:http://127.0.0.1:5001/3b6f483c-3b81-4b20-8297-a1ea00276ba9\")"
   ]
  },
  {
   "cell_type": "code",
   "execution_count": 25,
   "id": "f12725bb",
   "metadata": {},
   "outputs": [
    {
     "ename": "ModuleNotFoundError",
     "evalue": "No module named 'Flask'",
     "output_type": "error",
     "traceback": [
      "\u001b[1;31m---------------------------------------------------------------------------\u001b[0m",
      "\u001b[1;31mModuleNotFoundError\u001b[0m                       Traceback (most recent call last)",
      "Cell \u001b[1;32mIn[25], line 1\u001b[0m\n\u001b[1;32m----> 1\u001b[0m \u001b[38;5;28;01mfrom\u001b[39;00m \u001b[38;5;21;01mFlask\u001b[39;00m \u001b[38;5;28;01mimport\u001b[39;00m request\n\u001b[0;32m      2\u001b[0m repsonse \u001b[38;5;241m=\u001b[39m request\u001b[38;5;241m.\u001b[39mget(\u001b[38;5;124m\"\u001b[39m\u001b[38;5;124mdata:image/jpeg;base64,/9j/4AAQSkZJRgABAQAAAQABAAD/2wBDAAIBAQEBAQIBAQECAgICAgQDAgICAgUEBAMEBgUGBgYFBgYGBwkIBgcJBwYGCAsICQoKCgoKBggLDAsKDAkKCgr/2wBDAQICAgICAgUDAwUKBwYHCgoKCgoKCgoKCgoKCgoKCgoKCgoKCgoKCgoKCgoKCgoKCgoKCgoKCgoKCgoKCgoKCgr/wAARCACMAFoDASIAAhEBAxEB/8QAHwAAAQUBAQEBAQEAAAAAAAAAAAECAwQFBgcICQoL/8QAtRAAAgEDAwIEAwUFBAQAAAF9AQIDAAQRBRIhMUEGE1FhByJxFDKBkaEII0KxwRVS0fAkM2JyggkKFhcYGRolJicoKSo0NTY3ODk6Q0RFRkdISUpTVFVWV1hZWmNkZWZnaGlqc3R1dnd4eXqDhIWGh4iJipKTlJWWl5iZmqKjpKWmp6ipqrKztLW2t7i5usLDxMXGx8jJytLT1NXW19jZ2uHi4+Tl5ufo6erx8vP09fb3+Pn6/8QAHwEAAwEBAQEBAQEBAQAAAAAAAAECAwQFBgcICQoL/8QAtREAAgECBAQDBAcFBAQAAQJ3AAECAxEEBSExBhJBUQdhcRMiMoEIFEKRobHBCSMzUvAVYnLRChYkNOEl8RcYGRomJygpKjU2Nzg5OkNERUZHSElKU1RVVldYWVpjZGVmZ2hpanN0dXZ3eHl6goOEhYaHiImKkpOUlZaXmJmaoqOkpaanqKmqsrO0tba3uLm6wsPExcbHyMnK0tPU1dbX2Nna4uPk5ebn6Onq8vP09fb3+Pn6/9oADAMBAAIRAxEAPwD9/B0ooAwMCigAoopGYjGKABjjqPxprHauSMj6UjOW7cA1W1jVLbR9Mn1S9kCxQRGR2I6BRkmnFOTshNpK7PBv2i/+Clf7Ln7N3xKs/gt47+IdnF4r1MqLHSllG8k8DI7c17l4V1w+INAtdZDqVuYldCvowyK/lv8A+ChnimL4z/8ABdfQvEHhjUZr+3n8YW8UIaYkIFmG4AHtiv6hPh1ZJY+BdJtNm0pYQ5T+6Qg4/A10YnC1MLbn6kU6kamxvqxPalqMMwYjd+lLvb1rkbRohrojEllBzwfeneWo4EY/OlCjHNO59P1pJXAjV2L7SakpAig5xSM5BwBVPQBxz2FNLAnbije3oKaCdxLY9qV00J3EdeODwTz7V8qf8FWf2vo/2Xv2fr2PS1E2ta5C9tp0CEbiSDk/hmvprxV4j0zwp4evfE2u3S29pYwNNNM54VVGSTX40ePPi9N/wVS/4KHDwx4Reafwl4SglecchVCHlueK93h7BrEYtTqfCtWedmdScKDUNz4O/wCCfXwvv/jD/wAFHfDnjnxJp7TNpOvSXWoTP1DsrMgGf9rFf1BeAr2PUfC1peKjLvgUFW9cV/PH+zdq3w68D/8ABT2/8HfD3xW0041pkays+Y8I2D5nHJ/Kv6GfAUF3H4Zs3uWAL2qfKnA+6O1dPFPsXjV7J6BlSqfVlz7mxuPmlR2p4OaXyk3btxz0pdg9a+YsekKOg+lKOlIPT0pR0ql2AKY33qdk7cj0pHHAJ60PYBvTk0jZ6hlAAOc+tNaXa2Nv1Oa8y/a5+OmjfAL4J63451HWIrOeK0dLB5GwWl2kgD8j+VFGEq01GKJlJRVz4l/4Lp/t8ah8P/BX/DMHwtEtx4g8StHCy2jnfsLYKcdOa2P2AP2Vbb9i/wDYC1j4t+NfCltZ+M9V0S5nvriRMSBHj4BPXuPyr5r/AOCQH7NvxJ/4KC/tJeJP22P2hZzqPh7Qtcki8N/aRxNKH9D2UA+v4V+h3/BUW7bQ/wBkTWbbTZzbLIqwkIOGjC/dHtXvxqUqc6dGn13PPr+9ByPxO/4JH+GtC8a/8FLvFfirQtHe9urqfe07x5ERkkw3Pav6PdCge10i3gkxuSFFIHbgV+HX/BubocE37Rfjy8nsrdmGoRxxzqoDgBg1fudHC21SZDgnPT9K5s65PrK5Ub4OcpU7tWJQpJ3U6kUg8UteUddrCD7xo2qe1A+8aXI/yKXUCNJGYbSmPfNDbRwWFPIyOtQyuItzHoBnnjpQ79BO1iHUr2Cws5by8kVIokLOzHgAda/LH9v74+eIf+Ch37UOgfsTfBbS7ifRNM1D7T4g1WJCY8AqpB6YwN3fvWf/AMFa/wDgsf4sf4jX37EX7EEw1rx4s62mpwRAEIX4OMc8V9Q/8Enf2FtZ/Zt+D8HxA+Mlusnj3xDGtxrLs24wZBOwHt96vXw8YYOHtZ79Dll7WUrW0PoL9mj9nn4f/syfCex+E/w50eGysbZS8qxj78jD5mP1IzXiX/BYzUP7J/ZIv9SkDeVDcAuVbgAgjJr6rUEREEYGNowOvIFfLX/BYnWdC0L9i3Xp/ESA27gjaT32nFc2BquePjKXcqvBrDuKPgH/AINtfh+9/wDEzxx4+s71ZIpdVQYHp0Jxmv2rClVUE9OK/G7/AINbHnv5fiJriafMljPqsi2TFPkChvWv2S3Ka0zR82KYsJHlpIXGKKKK846hB940tJjBJpcn0NLqAnIGB1xXiP7cnxD+OPgj4Sy23wM+Hlzrmq6mfsokt8ZtA/y+YQSOmc8Z6V7dwFwfSmMhZg23cPQnj8qpS5HewWufnR/wT2/4IR+B/wBnb9o/UP21Pix40uvEPjLXkE7W12uRZyNhiMkdQciv0VWDCkDG3sMU4K2SCmQOhzTiWC4IxU1a1Wq1fYLWGlF8sD3H86/Ob/g541u40P8A4Jk61NbzyRub6IDy2IJ6+lfoy7AKOe9fmr/wdIBp/wDgm7qFqFyH1SI4rowrtWTM6rXs2cB/wam+GI/CP7G7ahexk3GrX7SB2ZieASckmv1pyFOa/MT/AINu9Hntv2R9Glk+6rtlewJXAr9OXYDAJ71eMlzVmyaP8K5MDkZooXoPpRXKbIKTH1/OlPSky3939aAGs6khc804crxxUe12bcFxzzUifdFSrtgAXAxmkftmnUjqT0pvYCGYnZkL/EDjPSvzW/4OhWuB/wAE7bp43GxNSiL8e9fpTcAghiDjkn8q/Nj/AIOedM1fVv2AZ4NOjLR/bk80KOg3Dn9a2welVXMK6bia3/BuLpbSfsTaTqbngKMEDqSK/RQqCMkd+tfEv/BCDwqfCH7DvhywMWwz2UcpGOxUc19uKAV59a0xf8djo60rCrnHSlo4FFcxsgoHAwTRTSr54P60uoCjoOKE+6KBwMDtQBgYpgLRRRQBHcEbME8nIA9eK+L/APguh4JsfH37DOu6FNctHcrteFEQtuwRX2k5AwSe/pXH/G/4TaH8avh7f/D7X4I5Ib1ApaRAcDPbNXTlyzTFJc0bHk//AATC+H7eAf2NvA2nzFjM/h+3L7lIP3R619DhTgkHPNYPw28E2Hw78EaZ4J0tg8Gm2aQI2McKoHb6V0CAgdKKtT2lRsmEORBgnGT0paKKgsKB0oooAagwSKdRRQAUUUUAIR3FJLwufenUfWgBsYO3k/pTqKKACiiigAoopCxz92gBaKKKACiiigAooooAKKKKACiimFiCeaAB8DLZ/Wk59f0oChjk9hVSQP5jYmkHzHgOaqIH/9k=\u001b[39m\u001b[38;5;124m\"\u001b[39m)\n",
      "\u001b[1;31mModuleNotFoundError\u001b[0m: No module named 'Flask'"
     ]
    }
   ],
   "source": [
    "from Flask import request\n",
    "repsonse = request.get(\"data:image/jpeg;base64,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\")"
   ]
  },
  {
   "cell_type": "code",
   "execution_count": 27,
   "id": "37f11f34",
   "metadata": {},
   "outputs": [
    {
     "name": "stdout",
     "output_type": "stream",
     "text": [
      "Collecting imageio\n",
      "  Downloading imageio-2.28.0-py3-none-any.whl (3.4 MB)\n",
      "     ---------------------------------------- 3.4/3.4 MB 7.4 MB/s eta 0:00:00\n",
      "Requirement already satisfied: pillow>=8.3.2 in c:\\users\\chell\\appdata\\roaming\\python\\python39\\site-packages (from imageio) (9.4.0)\n",
      "Requirement already satisfied: numpy in c:\\users\\chell\\appdata\\roaming\\python\\python39\\site-packages (from imageio) (1.23.5)\n",
      "Installing collected packages: imageio\n",
      "Successfully installed imageio-2.28.0\n",
      "Note: you may need to restart the kernel to use updated packages.\n"
     ]
    },
    {
     "name": "stderr",
     "output_type": "stream",
     "text": [
      "WARNING: You are using pip version 22.0.4; however, version 23.1 is available.\n",
      "You should consider upgrading via the 'C:\\Users\\chell\\AppData\\Local\\Programs\\Python\\Python39\\python.exe -m pip install --upgrade pip' command.\n"
     ]
    }
   ],
   "source": [
    "%pip install imageio"
   ]
  },
  {
   "cell_type": "code",
   "execution_count": 15,
   "id": "306e1698",
   "metadata": {},
   "outputs": [],
   "source": [
    "import base64\n",
    "import io\n",
    "import cv2\n",
    "from imageio import imread\n",
    "import matplotlib.pyplot as plt\n"
   ]
  },
  {
   "cell_type": "code",
   "execution_count": 12,
   "id": "ddfe766d",
   "metadata": {},
   "outputs": [],
   "source": [
    "b64_string = \"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\"\n",
    "\n",
    "# reconstruct image as an numpy array\n",
    "#img = imread(io.BytesIO(base64.b64decode(b64_string)))\n",
    "\n",
    "# show image\n",
    "#img"
   ]
  },
  {
   "cell_type": "code",
   "execution_count": 38,
   "id": "98a3d26f",
   "metadata": {},
   "outputs": [],
   "source": [
    "#img_compressed = compress_image(img)\n",
    "import cv"
   ]
  },
  {
   "cell_type": "code",
   "execution_count": 41,
   "id": "dfbb6c40",
   "metadata": {},
   "outputs": [
    {
     "data": {
      "text/plain": [
       "12600"
      ]
     },
     "execution_count": 41,
     "metadata": {},
     "output_type": "execute_result"
    }
   ],
   "source": [
    "len(img_compressed)"
   ]
  },
  {
   "cell_type": "code",
   "execution_count": 13,
   "id": "9d3dab91",
   "metadata": {},
   "outputs": [],
   "source": [
    "def get_image_df_X(b64_string):\n",
    "    image = imread(io.BytesIO(base64.b64decode(b64_string)))\n",
    "    row = compress_image(image)\n",
    "    column_list = []\n",
    "    for i in range(len(row)):\n",
    "        column_list.append(\"frag_\" + str(i))\n",
    "    df_X = pd.DataFrame([row], columns=column_list)\n",
    "    return df_X"
   ]
  },
  {
   "cell_type": "code",
   "execution_count": 16,
   "id": "7fdb351c",
   "metadata": {},
   "outputs": [
    {
     "name": "stderr",
     "output_type": "stream",
     "text": [
      "C:\\Users\\chell\\AppData\\Local\\Temp\\ipykernel_13120\\3730457163.py:2: DeprecationWarning: Starting with ImageIO v3 the behavior of this function will switch to that of iio.v3.imread. To keep the current behavior (and make this warning disappear) use `import imageio.v2 as imageio` or call `imageio.v2.imread` directly.\n",
      "  image = imread(io.BytesIO(base64.b64decode(b64_string)))\n"
     ]
    }
   ],
   "source": [
    "df_X = get_image_df_X(b64_string)"
   ]
  },
  {
   "cell_type": "code",
   "execution_count": 17,
   "id": "138c2f7b",
   "metadata": {},
   "outputs": [
    {
     "data": {
      "text/html": [
       "<div>\n",
       "<style scoped>\n",
       "    .dataframe tbody tr th:only-of-type {\n",
       "        vertical-align: middle;\n",
       "    }\n",
       "\n",
       "    .dataframe tbody tr th {\n",
       "        vertical-align: top;\n",
       "    }\n",
       "\n",
       "    .dataframe thead th {\n",
       "        text-align: right;\n",
       "    }\n",
       "</style>\n",
       "<table border=\"1\" class=\"dataframe\">\n",
       "  <thead>\n",
       "    <tr style=\"text-align: right;\">\n",
       "      <th></th>\n",
       "      <th>frag_0</th>\n",
       "      <th>frag_1</th>\n",
       "      <th>frag_2</th>\n",
       "      <th>frag_3</th>\n",
       "      <th>frag_4</th>\n",
       "      <th>frag_5</th>\n",
       "      <th>frag_6</th>\n",
       "      <th>frag_7</th>\n",
       "      <th>frag_8</th>\n",
       "      <th>frag_9</th>\n",
       "      <th>...</th>\n",
       "      <th>frag_12590</th>\n",
       "      <th>frag_12591</th>\n",
       "      <th>frag_12592</th>\n",
       "      <th>frag_12593</th>\n",
       "      <th>frag_12594</th>\n",
       "      <th>frag_12595</th>\n",
       "      <th>frag_12596</th>\n",
       "      <th>frag_12597</th>\n",
       "      <th>frag_12598</th>\n",
       "      <th>frag_12599</th>\n",
       "    </tr>\n",
       "  </thead>\n",
       "  <tbody>\n",
       "    <tr>\n",
       "      <th>0</th>\n",
       "      <td>250</td>\n",
       "      <td>254</td>\n",
       "      <td>255</td>\n",
       "      <td>253</td>\n",
       "      <td>252</td>\n",
       "      <td>255</td>\n",
       "      <td>255</td>\n",
       "      <td>254</td>\n",
       "      <td>255</td>\n",
       "      <td>255</td>\n",
       "      <td>...</td>\n",
       "      <td>255</td>\n",
       "      <td>255</td>\n",
       "      <td>255</td>\n",
       "      <td>255</td>\n",
       "      <td>255</td>\n",
       "      <td>255</td>\n",
       "      <td>255</td>\n",
       "      <td>254</td>\n",
       "      <td>253</td>\n",
       "      <td>254</td>\n",
       "    </tr>\n",
       "  </tbody>\n",
       "</table>\n",
       "<p>1 rows × 12600 columns</p>\n",
       "</div>"
      ],
      "text/plain": [
       "   frag_0  frag_1  frag_2  frag_3  frag_4  frag_5  frag_6  frag_7  frag_8  \\\n",
       "0     250     254     255     253     252     255     255     254     255   \n",
       "\n",
       "   frag_9  ...  frag_12590  frag_12591  frag_12592  frag_12593  frag_12594  \\\n",
       "0     255  ...         255         255         255         255         255   \n",
       "\n",
       "   frag_12595  frag_12596  frag_12597  frag_12598  frag_12599  \n",
       "0         255         255         254         253         254  \n",
       "\n",
       "[1 rows x 12600 columns]"
      ]
     },
     "execution_count": 17,
     "metadata": {},
     "output_type": "execute_result"
    }
   ],
   "source": [
    "df_X"
   ]
  },
  {
   "cell_type": "code",
   "execution_count": 19,
   "id": "fb8dcf60",
   "metadata": {},
   "outputs": [],
   "source": [
    "result = clf_svm.predict(df_X)"
   ]
  },
  {
   "cell_type": "code",
   "execution_count": 20,
   "id": "15b45cfb",
   "metadata": {},
   "outputs": [
    {
     "name": "stdout",
     "output_type": "stream",
     "text": [
      "[1]\n"
     ]
    }
   ],
   "source": [
    "print(result)"
   ]
  },
  {
   "cell_type": "code",
   "execution_count": 21,
   "id": "e66a217e",
   "metadata": {},
   "outputs": [
    {
     "name": "stdout",
     "output_type": "stream",
     "text": [
      "1\n"
     ]
    }
   ],
   "source": [
    "print(result[0])"
   ]
  },
  {
   "cell_type": "code",
   "execution_count": 25,
   "id": "1e3680fa",
   "metadata": {},
   "outputs": [
    {
     "data": {
      "text/plain": [
       "int"
      ]
     },
     "execution_count": 25,
     "metadata": {},
     "output_type": "execute_result"
    }
   ],
   "source": [
    "type(int(result[0]))"
   ]
  },
  {
   "cell_type": "code",
   "execution_count": null,
   "id": "4cbfc751",
   "metadata": {},
   "outputs": [],
   "source": []
  }
 ],
 "metadata": {
  "kernelspec": {
   "display_name": "Python 3 (ipykernel)",
   "language": "python",
   "name": "python3"
  },
  "language_info": {
   "codemirror_mode": {
    "name": "ipython",
    "version": 3
   },
   "file_extension": ".py",
   "mimetype": "text/x-python",
   "name": "python",
   "nbconvert_exporter": "python",
   "pygments_lexer": "ipython3",
   "version": "3.9.13"
  }
 },
 "nbformat": 4,
 "nbformat_minor": 5
}
